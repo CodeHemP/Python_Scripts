{
 "cells": [
  {
   "cell_type": "code",
   "execution_count": 1,
   "metadata": {},
   "outputs": [],
   "source": [
    "import numpy as np\n",
    "\n",
    "y_hat = np.array([0.000, 0.166, 0.333])\n",
    "y_true = np.array([0.000, 0.254, 0.998])"
   ]
  },
  {
   "cell_type": "code",
   "execution_count": 2,
   "metadata": {},
   "outputs": [],
   "source": [
    "def rmse(predictions, targets):\n",
    "    diff = predictions - targets\n",
    "    diff_sqd = diff ** 2\n",
    "    mean_of_diff_sqd = diff_sqd.mean()\n",
    "    rmse_val = np.sqrt(mean_of_diff_sqd)\n",
    "    return rmse_val"
   ]
  },
  {
   "cell_type": "code",
   "execution_count": 4,
   "metadata": {},
   "outputs": [
    {
     "name": "stdout",
     "output_type": "stream",
     "text": [
      "d is:['0.00000000', '0.16600000', '0.33300000']\n",
      "p is:['0.00000000', '0.25400000', '0.99800000']\n"
     ]
    }
   ],
   "source": [
    "print(\"d is:\"+ str([\"%.8f\" % elem for elem in y_hat]))\n",
    "print(\"p is:\" + str([\"%.8f\" % elem for elem in y_true]))"
   ]
  },
  {
   "cell_type": "code",
   "execution_count": 7,
   "metadata": {},
   "outputs": [
    {
     "name": "stdout",
     "output_type": "stream",
     "text": [
      "rmse error is:0.3872849941150143\n"
     ]
    }
   ],
   "source": [
    "rmse_val = rmse(y_hat, y_true)\n",
    "print(\"rmse error is:\" + str(rmse_val))"
   ]
  },
  {
   "cell_type": "code",
   "execution_count": 10,
   "metadata": {},
   "outputs": [
    {
     "name": "stdout",
     "output_type": "stream",
     "text": [
      "0.251\n"
     ]
    }
   ],
   "source": [
    "# mean absolute error\n",
    "\n",
    "def mae(predictions, targets):\n",
    "    diff = predictions - targets\n",
    "    abs_diff = np.absolute(diff)\n",
    "    mean_abs_diff = abs_diff.mean()\n",
    "    return mean_abs_diff\n",
    "\n",
    "mae_val = mae(y_hat, y_true)\n",
    "print(mae_val)"
   ]
  },
  {
   "cell_type": "code",
   "execution_count": 13,
   "metadata": {},
   "outputs": [
    {
     "name": "stdout",
     "output_type": "stream",
     "text": [
      "-0.251\n"
     ]
    }
   ],
   "source": [
    "# mean bias error\n",
    "\n",
    "def mbe(predictions, targets):\n",
    "    diff = predictions - targets\n",
    "    mean_bias_diff = diff.mean()\n",
    "    return mean_bias_diff\n",
    "\n",
    "mbe_val = mbe(y_hat, y_true)\n",
    "print(mbe_val)"
   ]
  },
  {
   "cell_type": "code",
   "execution_count": 18,
   "metadata": {},
   "outputs": [
    {
     "name": "stdout",
     "output_type": "stream",
     "text": [
      "[[0.25 0.25 0.25 0.25]\n",
      " [0.01 0.01 0.01 0.96]]\n",
      "2\n",
      "0.7135329699138555\n"
     ]
    }
   ],
   "source": [
    "# cross entropy\n",
    "\n",
    "predictions = np.array([[0.25,0.25,0.25,0.25],\n",
    "                        [0.01,0.01,0.01,0.96]])\n",
    "targets = np.array([[0,0,0,1],\n",
    "                   [0,0,0,1]])\n",
    "\n",
    "def cross_entropy(predictions, targets, epsilon=1e-10):\n",
    "    predictions = np.clip(predictions, epsilon, 1. - epsilon)\n",
    "    print(predictions)\n",
    "    N = predictions.shape[0]\n",
    "    print(N)\n",
    "    ce_loss = -np.sum(np.sum(targets * np.log(predictions + 1e-5)))/N\n",
    "    return ce_loss\n",
    "\n",
    "cross = cross_entropy(predictions, targets)\n",
    "print(cross)\n"
   ]
  }
 ],
 "metadata": {
  "kernelspec": {
   "display_name": "Python 3",
   "language": "python",
   "name": "python3"
  },
  "language_info": {
   "codemirror_mode": {
    "name": "ipython",
    "version": 3
   },
   "file_extension": ".py",
   "mimetype": "text/x-python",
   "name": "python",
   "nbconvert_exporter": "python",
   "pygments_lexer": "ipython3",
   "version": "3.6.5"
  }
 },
 "nbformat": 4,
 "nbformat_minor": 2
}
